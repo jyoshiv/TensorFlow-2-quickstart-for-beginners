{
  "nbformat": 4,
  "nbformat_minor": 0,
  "metadata": {
    "colab": {
      "name": "mnist.ipynb",
      "provenance": []
    },
    "kernelspec": {
      "name": "python3",
      "display_name": "Python 3"
    }
  },
  "cells": [
    {
      "cell_type": "code",
      "metadata": {
        "id": "janZBJzzbpGD"
      },
      "source": [
        "import tensorflow as tf"
      ],
      "execution_count": 2,
      "outputs": []
    },
    {
      "cell_type": "markdown",
      "metadata": {
        "id": "QWIfFmhFby28"
      },
      "source": [
        "#TensorFlow 2 quickstart for beginners\n",
        "This short introduction uses Keras to:\n",
        "\n",
        "Build a neural network that classifies images.\n",
        "Train this neural network.\n",
        "And, finally, evaluate the accuracy of the model.\n",
        "load the mnist dataset "
      ]
    },
    {
      "cell_type": "code",
      "metadata": {
        "id": "oSiaIJZMcMjh",
        "outputId": "17d37e14-3ccf-4923-9180-6b23e869b69e",
        "colab": {
          "base_uri": "https://localhost:8080/",
          "height": 52
        }
      },
      "source": [
        "mnist = tf.keras.datasets.mnist\n",
        "\n",
        "(x_train, y_train), (x_test, y_test) = mnist.load_data()\n",
        "x_train, x_test = x_train / 255.0, x_test / 255.0\n",
        "\n"
      ],
      "execution_count": 3,
      "outputs": [
        {
          "output_type": "stream",
          "text": [
            "Downloading data from https://storage.googleapis.com/tensorflow/tf-keras-datasets/mnist.npz\n",
            "11493376/11490434 [==============================] - 0s 0us/step\n"
          ],
          "name": "stdout"
        }
      ]
    },
    {
      "cell_type": "markdown",
      "metadata": {
        "id": "0B9nAiTudh7R"
      },
      "source": [
        "#Build the tf.keras.Sequential model by stacking layers. Choose an optimizer and loss function for training:\n",
        "For each example the model returns a vector of \"logits\" or \"log-odds\" scores, one for each class."
      ]
    },
    {
      "cell_type": "code",
      "metadata": {
        "id": "wgTcQAfocfSC",
        "outputId": "4090f326-de90-40b5-d3d6-294f7732d444",
        "colab": {
          "base_uri": "https://localhost:8080/",
          "height": 69
        }
      },
      "source": [
        "model = tf.keras.models.Sequential([\n",
        "  tf.keras.layers.Flatten(input_shape=(28, 28)),\n",
        "  tf.keras.layers.Dense(128, activation='relu'),\n",
        "  tf.keras.layers.Dropout(0.2),\n",
        "  tf.keras.layers.Dense(10)\n",
        "])\n",
        "predictions = model(x_train[:1]).numpy()\n",
        "predictions"
      ],
      "execution_count": 4,
      "outputs": [
        {
          "output_type": "execute_result",
          "data": {
            "text/plain": [
              "array([[ 0.10271885,  0.49922198,  0.5934531 ,  0.94570637, -0.33423427,\n",
              "         0.3495865 , -0.16191898,  0.5330763 , -0.03664055,  0.47997186]],\n",
              "      dtype=float32)"
            ]
          },
          "metadata": {
            "tags": []
          },
          "execution_count": 4
        }
      ]
    },
    {
      "cell_type": "markdown",
      "metadata": {
        "id": "BW1ZNhygduVW"
      },
      "source": [
        "#The tf.nn.softmax function converts these logits to \"probabilities\" for each class:"
      ]
    },
    {
      "cell_type": "code",
      "metadata": {
        "id": "wqN6lVi9cuTx",
        "outputId": "a8b528e7-159d-4121-e156-d8d93c80968e",
        "colab": {
          "base_uri": "https://localhost:8080/",
          "height": 69
        }
      },
      "source": [
        "tf.nn.softmax(predictions).numpy()"
      ],
      "execution_count": 5,
      "outputs": [
        {
          "output_type": "execute_result",
          "data": {
            "text/plain": [
              "array([[0.0769058 , 0.11432948, 0.1256268 , 0.17867506, 0.04968128,\n",
              "        0.09844017, 0.05902396, 0.11826628, 0.06690153, 0.11214967]],\n",
              "      dtype=float32)"
            ]
          },
          "metadata": {
            "tags": []
          },
          "execution_count": 5
        }
      ]
    },
    {
      "cell_type": "markdown",
      "metadata": {
        "id": "CLkHGezbd5lg"
      },
      "source": [
        "#The losses.SparseCategoricalCrossentropy loss takes a vector of logits and a True index and returns a scalar loss for each example."
      ]
    },
    {
      "cell_type": "code",
      "metadata": {
        "id": "gjkIx_9xc5W6",
        "outputId": "e4ad67ce-0647-4e35-bdc2-131296795efc",
        "colab": {
          "base_uri": "https://localhost:8080/",
          "height": 35
        }
      },
      "source": [
        "loss_fn = tf.keras.losses.SparseCategoricalCrossentropy(from_logits=True)\n",
        "loss_fn(y_train[:1], predictions).numpy()"
      ],
      "execution_count": 6,
      "outputs": [
        {
          "output_type": "execute_result",
          "data": {
            "text/plain": [
              "2.3183064"
            ]
          },
          "metadata": {
            "tags": []
          },
          "execution_count": 6
        }
      ]
    },
    {
      "cell_type": "markdown",
      "metadata": {
        "id": "0-HjEZpYeBO9"
      },
      "source": [
        "#The Model.fit method adjusts the model parameters to minimize the loss:"
      ]
    },
    {
      "cell_type": "code",
      "metadata": {
        "id": "2NA9MK41dB6K",
        "outputId": "814c76b3-8912-4a01-f640-6825919dae4b",
        "colab": {
          "base_uri": "https://localhost:8080/",
          "height": 173
        }
      },
      "source": [
        "model.compile(optimizer='adam',\n",
        "              loss=loss_fn,\n",
        "              metrics=['accuracy'])\n",
        "model.fit(x_train, y_train, epochs=4)"
      ],
      "execution_count": 7,
      "outputs": [
        {
          "output_type": "stream",
          "text": [
            "Epoch 1/4\n",
            "1875/1875 [==============================] - 3s 1ms/step - loss: 0.2934 - accuracy: 0.9151\n",
            "Epoch 2/4\n",
            "1875/1875 [==============================] - 3s 1ms/step - loss: 0.1414 - accuracy: 0.9580\n",
            "Epoch 3/4\n",
            "1875/1875 [==============================] - 3s 1ms/step - loss: 0.1050 - accuracy: 0.9684\n",
            "Epoch 4/4\n",
            "1875/1875 [==============================] - 3s 1ms/step - loss: 0.0869 - accuracy: 0.9733\n"
          ],
          "name": "stdout"
        },
        {
          "output_type": "execute_result",
          "data": {
            "text/plain": [
              "<tensorflow.python.keras.callbacks.History at 0x7f6a29358630>"
            ]
          },
          "metadata": {
            "tags": []
          },
          "execution_count": 7
        }
      ]
    },
    {
      "cell_type": "code",
      "metadata": {
        "id": "_xP6U06xdPpR",
        "outputId": "8232272b-7e4b-4e42-a615-bd5b42e04069",
        "colab": {
          "base_uri": "https://localhost:8080/",
          "height": 52
        }
      },
      "source": [
        "model.evaluate(x_test,  y_test, verbose=2)"
      ],
      "execution_count": 8,
      "outputs": [
        {
          "output_type": "stream",
          "text": [
            "313/313 - 0s - loss: 0.0880 - accuracy: 0.9731\n"
          ],
          "name": "stdout"
        },
        {
          "output_type": "execute_result",
          "data": {
            "text/plain": [
              "[0.08796904981136322, 0.9731000065803528]"
            ]
          },
          "metadata": {
            "tags": []
          },
          "execution_count": 8
        }
      ]
    },
    {
      "cell_type": "code",
      "metadata": {
        "id": "Q4aLRlW8dUSL",
        "outputId": "68a2469a-6b45-452b-a62c-8574ea9459d6",
        "colab": {
          "base_uri": "https://localhost:8080/",
          "height": 295
        }
      },
      "source": [
        "probability_model = tf.keras.Sequential([\n",
        "  model,\n",
        "  tf.keras.layers.Softmax()\n",
        "])\n",
        "probability_model(x_test[:5])"
      ],
      "execution_count": 9,
      "outputs": [
        {
          "output_type": "execute_result",
          "data": {
            "text/plain": [
              "<tf.Tensor: shape=(5, 10), dtype=float32, numpy=\n",
              "array([[1.71262187e-07, 1.65380154e-08, 1.33405013e-06, 1.18153682e-03,\n",
              "        1.37187154e-11, 1.95245684e-06, 4.21254069e-13, 9.98810768e-01,\n",
              "        1.13037302e-07, 4.10042639e-06],\n",
              "       [2.78604251e-08, 3.81801068e-03, 9.95940208e-01, 2.34902036e-04,\n",
              "        8.19460500e-15, 6.45906357e-06, 3.01788333e-07, 1.43197025e-11,\n",
              "        7.07017378e-08, 1.24007727e-12],\n",
              "       [7.91954517e-06, 9.89461482e-01, 2.71140219e-04, 8.88371360e-05,\n",
              "        3.36665747e-04, 2.96407728e-04, 6.08269511e-05, 9.02025681e-03,\n",
              "        4.17029572e-04, 3.93997398e-05],\n",
              "       [9.98819292e-01, 6.85820964e-08, 2.77811458e-04, 1.01384126e-06,\n",
              "        2.90302014e-05, 1.08173072e-05, 3.17916973e-04, 4.89875558e-04,\n",
              "        6.23711571e-08, 5.40654983e-05],\n",
              "       [4.17328738e-06, 1.90370235e-06, 1.73084554e-05, 4.39618447e-07,\n",
              "        9.86702502e-01, 4.41761443e-07, 5.01595605e-06, 1.72284446e-04,\n",
              "        1.90309970e-06, 1.30941113e-02]], dtype=float32)>"
            ]
          },
          "metadata": {
            "tags": []
          },
          "execution_count": 9
        }
      ]
    }
  ]
}